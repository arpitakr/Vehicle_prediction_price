{
 "cells": [
  {
   "cell_type": "code",
   "execution_count": 1,
   "metadata": {},
   "outputs": [],
   "source": [
    "import pandas as pd\n",
    "import numpy as np\n",
    "from sklearn.model_selection import train_test_split\n",
    "from sklearn.metrics import mean_squared_error\n",
    "from sklearn.linear_model import LinearRegression\n",
    "import matplotlib.pyplot as plt\n",
    "\n",
    "dataset = pd.read_csv('C:\\\\Users\\\\lenovo\\\\Downloads\\\\CAR DETAILS FROM CAR DEKHO.csv')\n",
    "print(dataset.head())\n",
    "\n",
    "print(dataset.info())\n",
    "\n",
    "selling_price = dataset['selling_price'].values.reshape(-1, 1)\n",
    "year = dataset['year'].values\n",
    "\n",
    "X_train, X_test, y_train, y_test = train_test_split(selling_price, year, test_size=0.5 , random_state=60)\n",
    "\n",
    "model = LinearRegression()\n",
    "model.fit(X_train, y_train)\n",
    "\n",
    "# Make predictions on the test set\n",
    "y_pred = model.predict(X_test)\n",
    "\n",
    "# Print the coefficients (intercept and slope)\n",
    "print(\"Intercept (β0):\", model.intercept_)\n",
    "print(\"Slope (β1):\", model.coef_[0])\n",
    "mse = mean_squared_error(y_test, y_pred)\n",
    "print(\"Mean Squared Error:\", mse)\n",
    "\n",
    "plt.scatter(X_test, y_test, color='blue', label='Actual Scores')\n",
    "plt.plot(X_test, y_pred, color='red', label='Regression Line')\n",
    "plt.xlabel('selling price')\n",
    "plt.ylabel('year')\n",
    "plt.legend()\n",
    "plt.title('Linear Regression Example with Dataset')\n",
    "plt.show()"
   ]
  }
 ],
 "metadata": {
  "kernelspec": {
   "display_name": "Python 3",
   "language": "python",
   "name": "python3"
  },
  "language_info": {
   "codemirror_mode": {
    "name": "ipython",
    "version": 3
   },
   "file_extension": ".py",
   "mimetype": "text/x-python",
   "name": "python",
   "nbconvert_exporter": "python",
   "pygments_lexer": "ipython3",
   "version": "3.11.3"
  },
  "orig_nbformat": 4
 },
 "nbformat": 4,
 "nbformat_minor": 2
}
